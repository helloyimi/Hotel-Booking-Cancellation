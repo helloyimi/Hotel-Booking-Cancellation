{
 "cells": [
  {
   "cell_type": "code",
   "execution_count": 1,
   "id": "ed2902dc",
   "metadata": {},
   "outputs": [
    {
     "name": "stderr",
     "output_type": "stream",
     "text": [
      "/Users/anhuishi/opt/anaconda3/lib/python3.8/site-packages/xgboost/compat.py:36: FutureWarning: pandas.Int64Index is deprecated and will be removed from pandas in a future version. Use pandas.Index with the appropriate dtype instead.\n",
      "  from pandas import MultiIndex, Int64Index\n"
     ]
    }
   ],
   "source": [
    "%matplotlib inline\n",
    "from statistics import mode\n",
    "import numpy as np\n",
    "import sklearn \n",
    "import pandas as pd\n",
    "from scipy import stats\n",
    "import matplotlib.pyplot as plt\n",
    "import seaborn as sns\n",
    "from sklearn.model_selection import train_test_split\n",
    "# Importing Classifier Modules\n",
    "from sklearn.linear_model import LogisticRegression\n",
    "from sklearn.tree import DecisionTreeClassifier\n",
    "from sklearn.ensemble import RandomForestClassifier\n",
    "from sklearn.model_selection import train_test_split, KFold, cross_validate, cross_val_score\n",
    "from sklearn.linear_model import SGDClassifier\n",
    "from sklearn.ensemble import GradientBoostingClassifier\n",
    "from sklearn.metrics import mean_squared_error\n",
    "from sklearn import preprocessing\n",
    "from sklearn.tree import DecisionTreeRegressor\n",
    "from sklearn.ensemble import RandomForestRegressor\n",
    "from xgboost import XGBClassifier\n",
    "from sklearn.metrics import roc_curve, auc\n",
    "from sklearn.metrics import roc_auc_score\n",
    "from imblearn import under_sampling, over_sampling\n",
    "from imblearn.over_sampling import SMOTE\n",
    "import csv\n",
    "from sklearn.metrics import accuracy_score\n",
    "from sklearn.metrics import f1_score\n",
    "from sklearn.model_selection import StratifiedKFold"
   ]
  },
  {
   "cell_type": "code",
   "execution_count": 2,
   "id": "2ff021ae",
   "metadata": {},
   "outputs": [
    {
     "data": {
      "text/html": [
       "<div>\n",
       "<style scoped>\n",
       "    .dataframe tbody tr th:only-of-type {\n",
       "        vertical-align: middle;\n",
       "    }\n",
       "\n",
       "    .dataframe tbody tr th {\n",
       "        vertical-align: top;\n",
       "    }\n",
       "\n",
       "    .dataframe thead th {\n",
       "        text-align: right;\n",
       "    }\n",
       "</style>\n",
       "<table border=\"1\" class=\"dataframe\">\n",
       "  <thead>\n",
       "    <tr style=\"text-align: right;\">\n",
       "      <th></th>\n",
       "      <th>hotel</th>\n",
       "      <th>is_canceled</th>\n",
       "      <th>lead_time</th>\n",
       "      <th>arrival_date_year</th>\n",
       "      <th>arrival_date_month</th>\n",
       "      <th>arrival_date_week_number</th>\n",
       "      <th>arrival_date_day_of_month</th>\n",
       "      <th>stays_in_weekend_nights</th>\n",
       "      <th>stays_in_week_nights</th>\n",
       "      <th>adults</th>\n",
       "      <th>...</th>\n",
       "      <th>deposit_type</th>\n",
       "      <th>agent</th>\n",
       "      <th>company</th>\n",
       "      <th>days_in_waiting_list</th>\n",
       "      <th>customer_type</th>\n",
       "      <th>adr</th>\n",
       "      <th>required_car_parking_spaces</th>\n",
       "      <th>total_of_special_requests</th>\n",
       "      <th>reservation_status</th>\n",
       "      <th>reservation_status_date</th>\n",
       "    </tr>\n",
       "  </thead>\n",
       "  <tbody>\n",
       "    <tr>\n",
       "      <th>0</th>\n",
       "      <td>Resort Hotel</td>\n",
       "      <td>0</td>\n",
       "      <td>342</td>\n",
       "      <td>2015</td>\n",
       "      <td>July</td>\n",
       "      <td>27</td>\n",
       "      <td>1</td>\n",
       "      <td>0</td>\n",
       "      <td>0</td>\n",
       "      <td>2</td>\n",
       "      <td>...</td>\n",
       "      <td>No Deposit</td>\n",
       "      <td>NaN</td>\n",
       "      <td>NaN</td>\n",
       "      <td>0</td>\n",
       "      <td>Transient</td>\n",
       "      <td>0.0</td>\n",
       "      <td>0</td>\n",
       "      <td>0</td>\n",
       "      <td>Check-Out</td>\n",
       "      <td>2015-07-01</td>\n",
       "    </tr>\n",
       "    <tr>\n",
       "      <th>1</th>\n",
       "      <td>Resort Hotel</td>\n",
       "      <td>0</td>\n",
       "      <td>737</td>\n",
       "      <td>2015</td>\n",
       "      <td>July</td>\n",
       "      <td>27</td>\n",
       "      <td>1</td>\n",
       "      <td>0</td>\n",
       "      <td>0</td>\n",
       "      <td>2</td>\n",
       "      <td>...</td>\n",
       "      <td>No Deposit</td>\n",
       "      <td>NaN</td>\n",
       "      <td>NaN</td>\n",
       "      <td>0</td>\n",
       "      <td>Transient</td>\n",
       "      <td>0.0</td>\n",
       "      <td>0</td>\n",
       "      <td>0</td>\n",
       "      <td>Check-Out</td>\n",
       "      <td>2015-07-01</td>\n",
       "    </tr>\n",
       "    <tr>\n",
       "      <th>2</th>\n",
       "      <td>Resort Hotel</td>\n",
       "      <td>0</td>\n",
       "      <td>7</td>\n",
       "      <td>2015</td>\n",
       "      <td>July</td>\n",
       "      <td>27</td>\n",
       "      <td>1</td>\n",
       "      <td>0</td>\n",
       "      <td>1</td>\n",
       "      <td>1</td>\n",
       "      <td>...</td>\n",
       "      <td>No Deposit</td>\n",
       "      <td>NaN</td>\n",
       "      <td>NaN</td>\n",
       "      <td>0</td>\n",
       "      <td>Transient</td>\n",
       "      <td>75.0</td>\n",
       "      <td>0</td>\n",
       "      <td>0</td>\n",
       "      <td>Check-Out</td>\n",
       "      <td>2015-07-02</td>\n",
       "    </tr>\n",
       "    <tr>\n",
       "      <th>3</th>\n",
       "      <td>Resort Hotel</td>\n",
       "      <td>0</td>\n",
       "      <td>13</td>\n",
       "      <td>2015</td>\n",
       "      <td>July</td>\n",
       "      <td>27</td>\n",
       "      <td>1</td>\n",
       "      <td>0</td>\n",
       "      <td>1</td>\n",
       "      <td>1</td>\n",
       "      <td>...</td>\n",
       "      <td>No Deposit</td>\n",
       "      <td>304.0</td>\n",
       "      <td>NaN</td>\n",
       "      <td>0</td>\n",
       "      <td>Transient</td>\n",
       "      <td>75.0</td>\n",
       "      <td>0</td>\n",
       "      <td>0</td>\n",
       "      <td>Check-Out</td>\n",
       "      <td>2015-07-02</td>\n",
       "    </tr>\n",
       "    <tr>\n",
       "      <th>4</th>\n",
       "      <td>Resort Hotel</td>\n",
       "      <td>0</td>\n",
       "      <td>14</td>\n",
       "      <td>2015</td>\n",
       "      <td>July</td>\n",
       "      <td>27</td>\n",
       "      <td>1</td>\n",
       "      <td>0</td>\n",
       "      <td>2</td>\n",
       "      <td>2</td>\n",
       "      <td>...</td>\n",
       "      <td>No Deposit</td>\n",
       "      <td>240.0</td>\n",
       "      <td>NaN</td>\n",
       "      <td>0</td>\n",
       "      <td>Transient</td>\n",
       "      <td>98.0</td>\n",
       "      <td>0</td>\n",
       "      <td>1</td>\n",
       "      <td>Check-Out</td>\n",
       "      <td>2015-07-03</td>\n",
       "    </tr>\n",
       "  </tbody>\n",
       "</table>\n",
       "<p>5 rows × 32 columns</p>\n",
       "</div>"
      ],
      "text/plain": [
       "          hotel  is_canceled  lead_time  arrival_date_year arrival_date_month  \\\n",
       "0  Resort Hotel            0        342               2015               July   \n",
       "1  Resort Hotel            0        737               2015               July   \n",
       "2  Resort Hotel            0          7               2015               July   \n",
       "3  Resort Hotel            0         13               2015               July   \n",
       "4  Resort Hotel            0         14               2015               July   \n",
       "\n",
       "   arrival_date_week_number  arrival_date_day_of_month  \\\n",
       "0                        27                          1   \n",
       "1                        27                          1   \n",
       "2                        27                          1   \n",
       "3                        27                          1   \n",
       "4                        27                          1   \n",
       "\n",
       "   stays_in_weekend_nights  stays_in_week_nights  adults  ...  deposit_type  \\\n",
       "0                        0                     0       2  ...    No Deposit   \n",
       "1                        0                     0       2  ...    No Deposit   \n",
       "2                        0                     1       1  ...    No Deposit   \n",
       "3                        0                     1       1  ...    No Deposit   \n",
       "4                        0                     2       2  ...    No Deposit   \n",
       "\n",
       "   agent company days_in_waiting_list customer_type   adr  \\\n",
       "0    NaN     NaN                    0     Transient   0.0   \n",
       "1    NaN     NaN                    0     Transient   0.0   \n",
       "2    NaN     NaN                    0     Transient  75.0   \n",
       "3  304.0     NaN                    0     Transient  75.0   \n",
       "4  240.0     NaN                    0     Transient  98.0   \n",
       "\n",
       "   required_car_parking_spaces  total_of_special_requests  reservation_status  \\\n",
       "0                            0                          0           Check-Out   \n",
       "1                            0                          0           Check-Out   \n",
       "2                            0                          0           Check-Out   \n",
       "3                            0                          0           Check-Out   \n",
       "4                            0                          1           Check-Out   \n",
       "\n",
       "  reservation_status_date  \n",
       "0              2015-07-01  \n",
       "1              2015-07-01  \n",
       "2              2015-07-02  \n",
       "3              2015-07-02  \n",
       "4              2015-07-03  \n",
       "\n",
       "[5 rows x 32 columns]"
      ]
     },
     "execution_count": 2,
     "metadata": {},
     "output_type": "execute_result"
    }
   ],
   "source": [
    "df = pd.read_csv('hotel_bookings.csv')\n",
    "\n",
    "df.head()"
   ]
  },
  {
   "cell_type": "code",
   "execution_count": 3,
   "id": "79820040",
   "metadata": {},
   "outputs": [],
   "source": [
    "def with_hue(ax, feature, Number_of_categories, hue_categories):\n",
    "    a = [p.get_height() for p in ax.patches]\n",
    "    patch = [p for p in ax.patches]\n",
    "    for i in range(Number_of_categories):\n",
    "        total = np.sum(a[::hue_categories])\n",
    "        for j in range(hue_categories):\n",
    "            percentage = '{:.1f}%'.format(100 * a[(j*Number_of_categories + i)]/total)\n",
    "            x = patch[(j*Number_of_categories + i)].get_x() + patch[(j*Number_of_categories + i)].get_width() / 2 - 0.\n",
    "            y = patch[(j*Number_of_categories + i)].get_y() + patch[(j*Number_of_categories + i)].get_height()\n",
    "            ax.annotate(percentage, (x, y), size = 12)"
   ]
  },
  {
   "cell_type": "code",
   "execution_count": 4,
   "id": "f57539c2",
   "metadata": {},
   "outputs": [],
   "source": [
    "def barPerc(df,xVar,ax):\n",
    "    '''\n",
    "    barPerc(): Add percentage for hues to bar plots\n",
    "    args:\n",
    "        df: pandas dataframe\n",
    "        xVar: (string) X variable \n",
    "        ax: Axes object (for Seaborn Countplot/Bar plot or\n",
    "                         pandas bar plot)\n",
    "    '''\n",
    "    # 1. how many X categories\n",
    "    ##   check for NaN and remove\n",
    "    numX=len([x for x in df[xVar].unique() if x==x])\n",
    "\n",
    "    # 2. The bars are created in hue order, organize them\n",
    "    bars = ax.patches\n",
    "    ## 2a. For each X variable\n",
    "    for ind in range(numX):\n",
    "        ## 2b. Get every hue bar\n",
    "        ##     ex. 8 X categories, 4 hues =>\n",
    "        ##    [0, 8, 16, 24] are hue bars for 1st X category\n",
    "        hueBars=bars[ind:][::numX]\n",
    "        ## 2c. Get the total height (for percentages)\n",
    "        total = sum([x.get_height() for x in hueBars])\n",
    "\n",
    "        # 3. Print the percentage on the bars\n",
    "        for bar in hueBars:\n",
    "            ax.text(bar.get_x() + bar.get_width()/2.,\n",
    "                    bar.get_height(),\n",
    "                    f'{bar.get_height()/total:.0%}',\n",
    "                    ha=\"center\",va=\"bottom\")"
   ]
  },
  {
   "cell_type": "code",
   "execution_count": 5,
   "id": "dd639beb",
   "metadata": {},
   "outputs": [
    {
     "data": {
      "image/png": "[encoded data removed]",
      "text/plain": [
       "<Figure size 576x360 with 1 Axes>"
      ]
     },
     "metadata": {},
     "output_type": "display_data"
    }
   ],
   "source": [
    "sns.set(style=\"whitegrid\")\n",
    "plt.figure(figsize=(8,5))\n",
    "ax = sns.countplot(x=\"hotel\", hue=\"is_canceled\", data=df)\n",
    "plt.title('Data provided for each event', fontsize=20)\n",
    "barPerc(df, 'hotel',ax)\n",
    "plt.show()"
   ]
  },
  {
   "cell_type": "code",
   "execution_count": 6,
   "id": "b530c20e",
   "metadata": {},
   "outputs": [
    {
     "data": {
      "text/plain": [
       "0         Resort Hotel\n",
       "1         Resort Hotel\n",
       "2         Resort Hotel\n",
       "3         Resort Hotel\n",
       "4         Resort Hotel\n",
       "              ...     \n",
       "119385      City Hotel\n",
       "119386      City Hotel\n",
       "119387      City Hotel\n",
       "119388      City Hotel\n",
       "119389      City Hotel\n",
       "Name: hotel, Length: 119390, dtype: object"
      ]
     },
     "execution_count": 6,
     "metadata": {},
     "output_type": "execute_result"
    }
   ],
   "source": [
    "df.hotel"
   ]
  },
  {
   "cell_type": "code",
   "execution_count": 7,
   "id": "9c48125d",
   "metadata": {},
   "outputs": [
    {
     "name": "stdout",
     "output_type": "stream",
     "text": [
      "is_canceled = 0: (75166, 32)\n",
      "is_canceled = 1: (44224, 32)\n"
     ]
    }
   ],
   "source": [
    "#class count\n",
    "canceled_count_0, canceled_count_1 = df['is_canceled'].value_counts()\n",
    "\n",
    "#separate class\n",
    "canceled_0 = df[df['is_canceled']==0]\n",
    "canceled_1 = df[df['is_canceled']==1]\n",
    "print('is_canceled = 0:', canceled_0.shape)\n",
    "print('is_canceled = 1:', canceled_1.shape)"
   ]
  },
  {
   "cell_type": "markdown",
   "id": "671bb97d",
   "metadata": {},
   "source": [
    "The proportion of minority class is higher than 20%, but we will apply SMOTE method on the training set to check if the accuracy of prediction will be higher."
   ]
  },
  {
   "cell_type": "code",
   "execution_count": 8,
   "id": "e2005b4c",
   "metadata": {},
   "outputs": [],
   "source": [
    "# Drop unecessary columns - data w/o dealing with imbalance problem\n",
    "df = df.drop(['arrival_date_year','arrival_date_day_of_month','meal',\n",
    "              'country','assigned_room_type','agent','company','reservation_status',\n",
    "              'reservation_status_date',], axis = 1)"
   ]
  },
  {
   "cell_type": "code",
   "execution_count": 9,
   "id": "9cee6c2f",
   "metadata": {},
   "outputs": [],
   "source": [
    "# Categorical variable for resort hotel\n",
    "df['is_resort'] = df['hotel'].apply(lambda x: 1 if x == 'Resort Hotel' else 0)\n",
    "df = df.drop('hotel', axis = 1)"
   ]
  },
  {
   "cell_type": "code",
   "execution_count": 10,
   "id": "f3914eb1",
   "metadata": {},
   "outputs": [],
   "source": [
    "# Categorical variable for deposit\n",
    "df['is_deposit'] = df['deposit_type'].apply(lambda x: 0 if x == 'No Deposit' else 1)\n",
    "df = df.drop('deposit_type', axis = 1)"
   ]
  },
  {
   "cell_type": "code",
   "execution_count": 11,
   "id": "fb610a0b",
   "metadata": {},
   "outputs": [],
   "source": [
    "# Categorical variable for customer type\n",
    "df['is_contract'] = df['customer_type'].apply(lambda x: 1 if x == 'Contract' else 0)\n",
    "df = df.drop('customer_type', axis = 1)"
   ]
  },
  {
   "cell_type": "code",
   "execution_count": 12,
   "id": "1664c91c",
   "metadata": {},
   "outputs": [],
   "source": [
    "# Categorical variable for market segement and distribution channel\n",
    "le = preprocessing.LabelEncoder()\n",
    "\n",
    "# fit label encoder and return encoded integer labels for categorical string features\n",
    "df['market_segment'] = le.fit_transform(df['market_segment'].values)\n",
    "df['distribution_channel'] = le.fit_transform(df['distribution_channel'].values)\n",
    "df['reserved_room_type'] = le.fit_transform(df['reserved_room_type'].values)\n",
    "df['arrival_date_month'] = le.fit_transform(df['arrival_date_month'].values)"
   ]
  },
  {
   "cell_type": "code",
   "execution_count": 13,
   "id": "86efdcbf",
   "metadata": {},
   "outputs": [
    {
     "name": "stdout",
     "output_type": "stream",
     "text": [
      "<class 'pandas.core.frame.DataFrame'>\n",
      "RangeIndex: 119390 entries, 0 to 119389\n",
      "Data columns (total 23 columns):\n",
      " #   Column                          Non-Null Count   Dtype  \n",
      "---  ------                          --------------   -----  \n",
      " 0   is_canceled                     119390 non-null  int64  \n",
      " 1   lead_time                       119390 non-null  int64  \n",
      " 2   arrival_date_month              119390 non-null  int64  \n",
      " 3   arrival_date_week_number        119390 non-null  int64  \n",
      " 4   stays_in_weekend_nights         119390 non-null  int64  \n",
      " 5   stays_in_week_nights            119390 non-null  int64  \n",
      " 6   adults                          119390 non-null  int64  \n",
      " 7   children                        119386 non-null  float64\n",
      " 8   babies                          119390 non-null  int64  \n",
      " 9   market_segment                  119390 non-null  int64  \n",
      " 10  distribution_channel            119390 non-null  int64  \n",
      " 11  is_repeated_guest               119390 non-null  int64  \n",
      " 12  previous_cancellations          119390 non-null  int64  \n",
      " 13  previous_bookings_not_canceled  119390 non-null  int64  \n",
      " 14  reserved_room_type              119390 non-null  int64  \n",
      " 15  booking_changes                 119390 non-null  int64  \n",
      " 16  days_in_waiting_list            119390 non-null  int64  \n",
      " 17  adr                             119390 non-null  float64\n",
      " 18  required_car_parking_spaces     119390 non-null  int64  \n",
      " 19  total_of_special_requests       119390 non-null  int64  \n",
      " 20  is_resort                       119390 non-null  int64  \n",
      " 21  is_deposit                      119390 non-null  int64  \n",
      " 22  is_contract                     119390 non-null  int64  \n",
      "dtypes: float64(2), int64(21)\n",
      "memory usage: 21.0 MB\n"
     ]
    }
   ],
   "source": [
    "df.info()"
   ]
  },
  {
   "cell_type": "code",
   "execution_count": 14,
   "id": "d625487b",
   "metadata": {},
   "outputs": [
    {
     "name": "stdout",
     "output_type": "stream",
     "text": [
      "children\n"
     ]
    }
   ],
   "source": [
    "# Check if any column has null\n",
    "for i in list(df.columns):\n",
    "    if np.any(np.isnan(df[i])) == True:\n",
    "        print(i)"
   ]
  },
  {
   "cell_type": "code",
   "execution_count": 15,
   "id": "6d939bce",
   "metadata": {},
   "outputs": [],
   "source": [
    "# Fill 0 for null in children\n",
    "df['children'].fillna(value = 0 , inplace=True)"
   ]
  },
  {
   "cell_type": "code",
   "execution_count": 16,
   "id": "5ec2c85e",
   "metadata": {},
   "outputs": [],
   "source": [
    "#data without dealing with imbalance problem\n",
    "x,y = df.drop (['is_canceled'],axis = 1 ), df['is_canceled']\n",
    "train_x, test_x, train_y, test_y = train_test_split(x,y, train_size = 0.8, test_size = 0.2)"
   ]
  },
  {
   "cell_type": "code",
   "execution_count": 17,
   "id": "81d2a6c7",
   "metadata": {},
   "outputs": [],
   "source": [
    "kfolds = 4 # 4 = 75% train, 25% validation\n",
    "split = KFold(n_splits=kfolds, shuffle=True, random_state=42)\n"
   ]
  },
  {
   "cell_type": "code",
   "execution_count": 18,
   "id": "b0ee7dda",
   "metadata": {},
   "outputs": [
    {
     "data": {
      "text/plain": [
       "0.8398"
      ]
     },
     "execution_count": 18,
     "metadata": {},
     "output_type": "execute_result"
    }
   ],
   "source": [
    "# CV for Random Forest\n",
    "RF = RandomForestClassifier(max_depth = 18)\n",
    "cv_RF_results = cross_val_score(RF, \n",
    "                                 x, y, \n",
    "                                 cv=split,\n",
    "                                 scoring=\"accuracy\",\n",
    "                                 n_jobs=-1)\n",
    "\n",
    "mean_score_RF= round(np.mean(cv_RF_results), 4)\n",
    "mean_score_RF\n"
   ]
  },
  {
   "cell_type": "code",
   "execution_count": 19,
   "id": "e40298d9",
   "metadata": {},
   "outputs": [
    {
     "data": {
      "text/plain": [
       "0.40024992192379"
      ]
     },
     "execution_count": 19,
     "metadata": {},
     "output_type": "execute_result"
    }
   ],
   "source": [
    "# CV RMSE\n",
    "cv_RF_RMSE = -cross_val_score(RF, \n",
    "                                x, y, \n",
    "                                cv=split,\n",
    "                                scoring=\"neg_mean_squared_error\",\n",
    "                                n_jobs=-1)\n",
    "\n",
    "mean_cv_RF_RMSE = round(np.mean(cv_RF_RMSE), 4)\n",
    "np.sqrt(mean_cv_RF_RMSE)"
   ]
  },
  {
   "cell_type": "code",
   "execution_count": 20,
   "id": "7c4a6617",
   "metadata": {},
   "outputs": [
    {
     "name": "stdout",
     "output_type": "stream",
     "text": [
      "RMSE on training data:  0.36111281134542816\n",
      "RMSE on test data:  0.39834863075883603\n"
     ]
    }
   ],
   "source": [
    "# RMSE of Random Forest\n",
    "RF.fit(train_x, train_y)\n",
    "\n",
    "# Use trained regression model to predict interest rates of training and test data\n",
    "RF_train_pred = RF.predict(train_x)\n",
    "RF_test_pred = RF.predict(test_x)\n",
    "# Print RMSE \n",
    "RMSE_Train_RF = np.sqrt(mean_squared_error(train_y, RF_train_pred))\n",
    "RMSE_Test_RF = np.sqrt(mean_squared_error(test_y, RF_test_pred))\n",
    "print('RMSE on training data: ', RMSE_Train_RF )\n",
    "print('RMSE on test data: ', RMSE_Test_RF )"
   ]
  },
  {
   "cell_type": "code",
   "execution_count": 21,
   "id": "89653898",
   "metadata": {},
   "outputs": [
    {
     "data": {
      "text/plain": [
       "0.6763257999552472"
      ]
     },
     "execution_count": 21,
     "metadata": {},
     "output_type": "execute_result"
    }
   ],
   "source": [
    "# Recall score of Random Foreset\n",
    "from sklearn.metrics import recall_score\n",
    "RF_recall = recall_score(test_y, RF_test_pred)\n",
    "RF_recall"
   ]
  },
  {
   "cell_type": "code",
   "execution_count": 22,
   "id": "d36d7e99",
   "metadata": {},
   "outputs": [
    {
     "data": {
      "text/plain": [
       "0.7984"
      ]
     },
     "execution_count": 22,
     "metadata": {},
     "output_type": "execute_result"
    }
   ],
   "source": [
    "# CV for Logisticc Regression\n",
    "LR = LogisticRegression(max_iter = 5000)\n",
    "cv_LR_results = cross_val_score(LR, \n",
    "                                 x, y, \n",
    "                                 cv=split,\n",
    "                                 scoring=\"accuracy\",\n",
    "                                 n_jobs=-1)\n",
    "mean_score_LR = round(np.mean(cv_LR_results), 4)\n",
    "mean_score_LR"
   ]
  },
  {
   "cell_type": "code",
   "execution_count": 23,
   "id": "6319652d",
   "metadata": {},
   "outputs": [
    {
     "name": "stdout",
     "output_type": "stream",
     "text": [
      "RMSE on training data:  0.44819112294532587\n",
      "RMSE on test data:  0.45003280445524535\n"
     ]
    }
   ],
   "source": [
    "# RMSE of LogisticRegression\n",
    "LR.fit(train_x, train_y)\n",
    "\n",
    "# Use trained regression model to predict interest rates of training and test data\n",
    "LR_train_pred = LR.predict(train_x)\n",
    "LR_test_pred = LR.predict(test_x)\n",
    "# Print RMSE \n",
    "RMSE_Train_LR = np.sqrt(mean_squared_error(train_y, LR_train_pred))\n",
    "RMSE_Test_LR = np.sqrt(mean_squared_error(test_y, LR_test_pred))\n",
    "print('RMSE on training data: ', RMSE_Train_LR )\n",
    "print('RMSE on test data: ', RMSE_Test_LR )"
   ]
  },
  {
   "cell_type": "code",
   "execution_count": 24,
   "id": "4db647b4",
   "metadata": {},
   "outputs": [
    {
     "data": {
      "text/plain": [
       "0.8363"
      ]
     },
     "execution_count": 24,
     "metadata": {},
     "output_type": "execute_result"
    }
   ],
   "source": [
    "# CV for XGBClassifier\n",
    "XGB = XGBClassifier(use_label_encoder = False, eval_metric='mlogloss')\n",
    "cv_XGB_results = cross_val_score(XGB, \n",
    "                                 x, y, \n",
    "                                 cv=split,\n",
    "                                 scoring=\"accuracy\",\n",
    "                                 n_jobs=-1)\n",
    "\n",
    "mean_score_XGB = round(np.mean(cv_XGB_results), 4)\n",
    "mean_score_XGB"
   ]
  },
  {
   "cell_type": "code",
   "execution_count": 25,
   "id": "83119c5b",
   "metadata": {},
   "outputs": [
    {
     "name": "stderr",
     "output_type": "stream",
     "text": [
      "/Users/anhuishi/opt/anaconda3/lib/python3.8/site-packages/xgboost/data.py:250: FutureWarning: pandas.Int64Index is deprecated and will be removed from pandas in a future version. Use pandas.Index with the appropriate dtype instead.\n",
      "  elif isinstance(data.columns, (pd.Int64Index, pd.RangeIndex)):\n"
     ]
    },
    {
     "name": "stdout",
     "output_type": "stream",
     "text": [
      "RMSE on training data:  0.3880167497332306\n",
      "RMSE on test data:  0.405950793286655\n"
     ]
    }
   ],
   "source": [
    "# RMSE of XGBClassifier\n",
    "XGB.fit(train_x, train_y)\n",
    "\n",
    "# Use trained regression model to predict interest rates of training and test data\n",
    "XGB_train_pred = XGB.predict(train_x)\n",
    "XGB_test_pred = XGB.predict(test_x)\n",
    "# Print RMSE \n",
    "RMSE_Train_XGB = np.sqrt(mean_squared_error(train_y, XGB_train_pred))\n",
    "RMSE_Test_XGB = np.sqrt(mean_squared_error(test_y, XGB_test_pred))\n",
    "print('RMSE on training data: ', RMSE_Train_XGB )\n",
    "print('RMSE on test data: ', RMSE_Test_XGB )"
   ]
  },
  {
   "cell_type": "code",
   "execution_count": 26,
   "id": "d29cf6e4",
   "metadata": {},
   "outputs": [
    {
     "data": {
      "text/plain": [
       "0.8216"
      ]
     },
     "execution_count": 26,
     "metadata": {},
     "output_type": "execute_result"
    }
   ],
   "source": [
    "# CV for Decision Tree Classifier\n",
    "DT = DecisionTreeClassifier(max_depth = 18)\n",
    "cv_DT_results = cross_val_score(DT, \n",
    "                                 x, y, \n",
    "                                 cv=split,\n",
    "                                 scoring=\"accuracy\",\n",
    "                                 n_jobs=-1)\n",
    "\n",
    "mean_score_DT = round(np.mean(cv_DT_results), 4)\n",
    "mean_score_DT"
   ]
  },
  {
   "cell_type": "code",
   "execution_count": 27,
   "id": "4b67a90d",
   "metadata": {},
   "outputs": [
    {
     "name": "stdout",
     "output_type": "stream",
     "text": [
      "RMSE on training data:  0.3525005502256311\n",
      "RMSE on test data:  0.42342221528044294\n"
     ]
    }
   ],
   "source": [
    "# RMSE of Decision Tree \n",
    "DT.fit(train_x, train_y)\n",
    "\n",
    "# Use trained regression model to predict interest rates of training and test data\n",
    "DT_train_pred = DT.predict(train_x)\n",
    "DT_test_pred = DT.predict(test_x)\n",
    "# Print RMSE \n",
    "RMSE_Train_DT = np.sqrt(mean_squared_error(train_y, DT_train_pred))\n",
    "RMSE_Test_DT = np.sqrt(mean_squared_error(test_y, DT_test_pred))\n",
    "print('RMSE on training data: ', RMSE_Train_DT )\n",
    "print('RMSE on test data: ', RMSE_Test_DT )"
   ]
  },
  {
   "cell_type": "code",
   "execution_count": 28,
   "id": "f3ce4757",
   "metadata": {
    "scrolled": true
   },
   "outputs": [
    {
     "data": {
      "image/png": "[encoded data removed]",
      "text/plain": [
       "<Figure size 432x288 with 1 Axes>"
      ]
     },
     "metadata": {},
     "output_type": "display_data"
    }
   ],
   "source": [
    "# ROC curve for the models\n",
    "\n",
    "RFfpr, RFtpr, RFthresholds = roc_curve(test_y, RF.predict(test_x))\n",
    "RFauc = roc_auc_score(test_y, RF.predict(test_x))\n",
    "\n",
    "LRfpr, LRtpr, LRthresholds = roc_curve(test_y, LR.predict(test_x))\n",
    "LRauc = roc_auc_score(test_y, LR.predict(test_x))\n",
    "\n",
    "XGBfpr,XGBtpr,XGBthreshholds = roc_curve(test_y, XGB.predict(test_x))\n",
    "XGBauc = roc_auc_score(test_y, XGB.predict(test_x))\n",
    "\n",
    "DTfpr,DTtpr,DTthreshholds = roc_curve(test_y, DT.predict(test_x))\n",
    "DTauc = roc_auc_score(test_y, DT.predict(test_x))\n",
    "\n",
    "plt.plot(RFfpr, RFtpr, label='Random Forest Model(area = %0.2f}' %RFauc)\n",
    "plt.plot(LRfpr, LRtpr, label='Logistic Regression Model (area = %0.2f}' %LRauc)\n",
    "plt.plot(XGBfpr, XGBtpr, label='XGBooster Model (area = %0.2f}' %XGBauc)\n",
    "plt.plot(DTfpr, DTtpr, label='Decision Tree Model (area = %0.2f}' %DTauc)\n",
    "\n",
    "# axis labels\n",
    "plt.xlabel('False Positive Rate')\n",
    "plt.ylabel('True Positive Rate')\n",
    "# show the legend\n",
    "plt.legend()\n",
    "# show the plot\n",
    "plt.show()"
   ]
  },
  {
   "cell_type": "markdown",
   "id": "ca276dd2",
   "metadata": {},
   "source": [
    "\n",
    "### Select our best model"
   ]
  },
  {
   "cell_type": "code",
   "execution_count": 29,
   "id": "262af465",
   "metadata": {},
   "outputs": [
    {
     "data": {
      "text/html": [
       "<div>\n",
       "<style scoped>\n",
       "    .dataframe tbody tr th:only-of-type {\n",
       "        vertical-align: middle;\n",
       "    }\n",
       "\n",
       "    .dataframe tbody tr th {\n",
       "        vertical-align: top;\n",
       "    }\n",
       "\n",
       "    .dataframe thead th {\n",
       "        text-align: right;\n",
       "    }\n",
       "</style>\n",
       "<table border=\"1\" class=\"dataframe\">\n",
       "  <thead>\n",
       "    <tr style=\"text-align: right;\">\n",
       "      <th></th>\n",
       "      <th>Model</th>\n",
       "      <th>CV_accuracy_mean_score</th>\n",
       "      <th>RMSE_Train</th>\n",
       "      <th>RMSE_Test</th>\n",
       "      <th>roc_auc_score</th>\n",
       "    </tr>\n",
       "  </thead>\n",
       "  <tbody>\n",
       "    <tr>\n",
       "      <th>0</th>\n",
       "      <td>Random Forest</td>\n",
       "      <td>0.8398</td>\n",
       "      <td>0.361113</td>\n",
       "      <td>0.398349</td>\n",
       "      <td>0.808176</td>\n",
       "    </tr>\n",
       "    <tr>\n",
       "      <th>2</th>\n",
       "      <td>XGBClassifier</td>\n",
       "      <td>0.8363</td>\n",
       "      <td>0.388017</td>\n",
       "      <td>0.405951</td>\n",
       "      <td>0.804167</td>\n",
       "    </tr>\n",
       "    <tr>\n",
       "      <th>3</th>\n",
       "      <td>Decision Tree</td>\n",
       "      <td>0.8216</td>\n",
       "      <td>0.352501</td>\n",
       "      <td>0.423422</td>\n",
       "      <td>0.796003</td>\n",
       "    </tr>\n",
       "    <tr>\n",
       "      <th>1</th>\n",
       "      <td>Logistic Regression</td>\n",
       "      <td>0.7984</td>\n",
       "      <td>0.448191</td>\n",
       "      <td>0.450033</td>\n",
       "      <td>0.745201</td>\n",
       "    </tr>\n",
       "  </tbody>\n",
       "</table>\n",
       "</div>"
      ],
      "text/plain": [
       "                 Model  CV_accuracy_mean_score  RMSE_Train  RMSE_Test  \\\n",
       "0        Random Forest                  0.8398    0.361113   0.398349   \n",
       "2        XGBClassifier                  0.8363    0.388017   0.405951   \n",
       "3        Decision Tree                  0.8216    0.352501   0.423422   \n",
       "1  Logistic Regression                  0.7984    0.448191   0.450033   \n",
       "\n",
       "   roc_auc_score  \n",
       "0       0.808176  \n",
       "2       0.804167  \n",
       "3       0.796003  \n",
       "1       0.745201  "
      ]
     },
     "execution_count": 29,
     "metadata": {},
     "output_type": "execute_result"
    }
   ],
   "source": [
    "#comapring score and rmse for each model\n",
    "models = pd.DataFrame({\n",
    "    'Model': ['Random Forest', 'Logistic Regression', 'XGBClassifier', \n",
    "              'Decision Tree'],\n",
    "    \n",
    "    'CV_accuracy_mean_score': [mean_score_RF, mean_score_LR, mean_score_XGB,mean_score_DT],\n",
    "    'RMSE_Train': [RMSE_Train_RF, RMSE_Train_LR, RMSE_Train_XGB, RMSE_Train_DT],\n",
    "    'RMSE_Test': [RMSE_Test_RF, RMSE_Test_LR, RMSE_Test_XGB, RMSE_Test_DT],\n",
    "    'roc_auc_score': [RFauc, LRauc, XGBauc, DTauc]})\n",
    "\n",
    "models = models.sort_values([\"CV_accuracy_mean_score\",\"RMSE_Test\"], ascending = (False,True))\n",
    "models"
   ]
  },
  {
   "cell_type": "markdown",
   "id": "9904cdec",
   "metadata": {},
   "source": [
    "From the output, we can find that Random Forest is the best model because it has the highest in CV mean score and roc auc score and lowest in RMSE score. Next, we will apply feature importance analysis and smote train set on the random forest model and check if the performance can be better."
   ]
  },
  {
   "cell_type": "code",
   "execution_count": 30,
   "id": "008ed5d2",
   "metadata": {},
   "outputs": [],
   "source": [
    "# Feature Importance\n",
    "importances = RF.feature_importances_\n",
    "std = np.std([RF.feature_importances_ for tree in RF.estimators_], axis=0)\n",
    "forest_importances = pd.Series(importances, index= x.keys())"
   ]
  },
  {
   "cell_type": "code",
   "execution_count": 31,
   "id": "00a22107",
   "metadata": {},
   "outputs": [
    {
     "data": {
      "text/plain": [
       "Text(0.5, 0, 'Random Forest Feature Importance')"
      ]
     },
     "execution_count": 31,
     "metadata": {},
     "output_type": "execute_result"
    },
    {
     "data": {
      "image/png": "[encoded data removed]",
      "text/plain": [
       "<Figure size 432x288 with 1 Axes>"
      ]
     },
     "metadata": {},
     "output_type": "display_data"
    }
   ],
   "source": [
    "sorted_idx = RF.feature_importances_.argsort()\n",
    "plt.barh(x.keys()[sorted_idx], RF.feature_importances_[sorted_idx])\n",
    "plt.xlabel(\"Random Forest Feature Importance\")"
   ]
  },
  {
   "cell_type": "markdown",
   "id": "92c3fc2e",
   "metadata": {},
   "source": [
    "### Recursive Feature elimination:\n",
    "Recursive feature elimination performs a greedy search to find the best performing feature subset. It iteratively creates models and determines the best or the worst performing feature at each iteration. It constructs the subsequent models with the left features until all the features are explored. It then ranks the features based on the order of their elimination. In the worst case, if a dataset contains N number of features RFE will do a greedy search for 2N combinations of features."
   ]
  },
  {
   "cell_type": "code",
   "execution_count": 32,
   "id": "5c35ceb8",
   "metadata": {},
   "outputs": [
    {
     "name": "stdout",
     "output_type": "stream",
     "text": [
      "Num Features: 12\n",
      "Selected Features: [ True  True  True False  True False False False  True False False  True\n",
      " False  True  True False  True  True  True False  True False]\n",
      "Feature Ranking: [ 1  1  1  2  1  4  7 11  1  3 10  1  6  1  1  9  1  1  1  5  1  8]\n"
     ]
    }
   ],
   "source": [
    "from sklearn.feature_selection import RFE\n",
    "\n",
    "# Feature extraction \n",
    "model = RandomForestClassifier(max_depth = 18)\n",
    "rfe = RFE(model, n_features_to_select=12) #select 12 variables\n",
    "fit = rfe.fit(train_x, train_y)\n",
    "print(\"Num Features: %s\" % (fit.n_features_))\n",
    "print(\"Selected Features: %s\" % (fit.support_))\n",
    "print(\"Feature Ranking: %s\" % (fit.ranking_))"
   ]
  },
  {
   "cell_type": "code",
   "execution_count": 33,
   "id": "6e43cea6",
   "metadata": {},
   "outputs": [],
   "source": [
    "names=pd.DataFrame(train_x.columns)\n",
    "rankings = pd.DataFrame(fit.ranking_)"
   ]
  },
  {
   "cell_type": "code",
   "execution_count": 34,
   "id": "7a06452f",
   "metadata": {},
   "outputs": [],
   "source": [
    "#Concat and name columns\n",
    "ranked=pd.concat([names,rankings], axis=1)\n",
    "ranked.columns = [\"Feature\", \"Rank\"]"
   ]
  },
  {
   "cell_type": "code",
   "execution_count": 35,
   "id": "bc606bf6",
   "metadata": {},
   "outputs": [
    {
     "name": "stdout",
     "output_type": "stream",
     "text": [
      "                        Feature  Rank\n",
      "0                     lead_time     1\n",
      "1            arrival_date_month     1\n",
      "2      arrival_date_week_number     1\n",
      "4          stays_in_week_nights     1\n",
      "8                market_segment     1\n",
      "11       previous_cancellations     1\n",
      "13           reserved_room_type     1\n",
      "14              booking_changes     1\n",
      "16                          adr     1\n",
      "17  required_car_parking_spaces     1\n",
      "18    total_of_special_requests     1\n",
      "20                   is_deposit     1\n"
     ]
    },
    {
     "data": {
      "text/plain": [
       "12"
      ]
     },
     "execution_count": 35,
     "metadata": {},
     "output_type": "execute_result"
    }
   ],
   "source": [
    "#Select most important (Only 1's)\n",
    "most_important = ranked.loc[ranked['Rank'] ==1] \n",
    "print(most_important)\n",
    "\n",
    "most_important['Rank'].count()"
   ]
  },
  {
   "cell_type": "code",
   "execution_count": 36,
   "id": "278f2b2f",
   "metadata": {},
   "outputs": [],
   "source": [
    "# We can see that the variables selected by RFM and Feature importance are the same\n",
    "# Delete some of the variables according to the feature importance and RFE\n",
    "newdf = df.drop(['adults','children','babies','distribution_channel','is_repeated_guest','previous_bookings_not_canceled',\n",
    "                 'days_in_waiting_list','reserved_room_type', 'is_resort','is_contract'], axis = 1)"
   ]
  },
  {
   "cell_type": "code",
   "execution_count": 37,
   "id": "ddd1cfbc",
   "metadata": {},
   "outputs": [
    {
     "name": "stdout",
     "output_type": "stream",
     "text": [
      "<class 'pandas.core.frame.DataFrame'>\n",
      "RangeIndex: 119390 entries, 0 to 119389\n",
      "Data columns (total 13 columns):\n",
      " #   Column                       Non-Null Count   Dtype  \n",
      "---  ------                       --------------   -----  \n",
      " 0   is_canceled                  119390 non-null  int64  \n",
      " 1   lead_time                    119390 non-null  int64  \n",
      " 2   arrival_date_month           119390 non-null  int64  \n",
      " 3   arrival_date_week_number     119390 non-null  int64  \n",
      " 4   stays_in_weekend_nights      119390 non-null  int64  \n",
      " 5   stays_in_week_nights         119390 non-null  int64  \n",
      " 6   market_segment               119390 non-null  int64  \n",
      " 7   previous_cancellations       119390 non-null  int64  \n",
      " 8   booking_changes              119390 non-null  int64  \n",
      " 9   adr                          119390 non-null  float64\n",
      " 10  required_car_parking_spaces  119390 non-null  int64  \n",
      " 11  total_of_special_requests    119390 non-null  int64  \n",
      " 12  is_deposit                   119390 non-null  int64  \n",
      "dtypes: float64(1), int64(12)\n",
      "memory usage: 11.8 MB\n"
     ]
    }
   ],
   "source": [
    "newdf.info()"
   ]
  },
  {
   "cell_type": "code",
   "execution_count": 38,
   "id": "4ee2f81a",
   "metadata": {},
   "outputs": [],
   "source": [
    "newx,newy = newdf.drop (['is_canceled'],axis = 1 ), newdf['is_canceled']\n",
    "train_new_x, test_new_x, train_new_y, test_new_y = train_test_split(newx,newy, train_size = 0.8, test_size = 0.2)"
   ]
  },
  {
   "cell_type": "code",
   "execution_count": 39,
   "id": "bd58a26e",
   "metadata": {},
   "outputs": [],
   "source": [
    "kfolds = 4 # 4 = 75% train, 25% validation\n",
    "split = KFold(n_splits=kfolds, shuffle=True, random_state=42)\n"
   ]
  },
  {
   "cell_type": "code",
   "execution_count": 40,
   "id": "c70c4edd",
   "metadata": {},
   "outputs": [
    {
     "data": {
      "text/plain": [
       "0.8435"
      ]
     },
     "execution_count": 40,
     "metadata": {},
     "output_type": "execute_result"
    }
   ],
   "source": [
    "RFNEW = RandomForestClassifier(max_depth = 18)\n",
    "# CV for Random Forest on feature selected dataset\n",
    "cv_RFNEW_accuracy = cross_val_score(RFNEW, \n",
    "                                 newx, newy, \n",
    "                                 cv=split,\n",
    "                                 scoring=\"accuracy\",\n",
    "                                 n_jobs=-1)\n",
    "mean_score_RFNEW = round(np.mean(cv_RFNEW_accuracy), 4)\n",
    "mean_score_RFNEW"
   ]
  },
  {
   "cell_type": "code",
   "execution_count": 41,
   "id": "a571827b",
   "metadata": {},
   "outputs": [
    {
     "name": "stdout",
     "output_type": "stream",
     "text": [
      "RMSE on training data:  0.3406124419055614\n",
      "RMSE on testing data:  0.3941740057762786\n"
     ]
    }
   ],
   "source": [
    "# RMSE of Random Forest\n",
    "RFNEW.fit(train_new_x, train_new_y)\n",
    "\n",
    "# Use trained regression model to predict interest rates of training and test data\n",
    "RFNEW_train_pred = RFNEW.predict(train_new_x)\n",
    "RFNEW_test_pred = RFNEW.predict(test_new_x)\n",
    "# Print RMSE of training predictions\n",
    "RFNEW_train_RMSE = np.sqrt(mean_squared_error(train_new_y, RFNEW_train_pred))\n",
    "RFNEW_test_RMSE = np.sqrt(mean_squared_error(test_new_y, RFNEW_test_pred))\n",
    "print('RMSE on training data: ', RFNEW_train_RMSE)\n",
    "print('RMSE on testing data: ', RFNEW_test_RMSE)\n"
   ]
  },
  {
   "cell_type": "code",
   "execution_count": 42,
   "id": "601b88ce",
   "metadata": {},
   "outputs": [
    {
     "data": {
      "text/plain": [
       "0.3950949253027682"
      ]
     },
     "execution_count": 42,
     "metadata": {},
     "output_type": "execute_result"
    }
   ],
   "source": [
    "# CV RMSE for Random Forest on feature selected dataset\n",
    "cv_RFNEW_RMSE = -cross_val_score(RFNEW, \n",
    "                                 newx, newy, \n",
    "                                 cv=split,\n",
    "                                 scoring=\"neg_mean_squared_error\",\n",
    "                                 n_jobs=-1)\n",
    "mean_RFNEW_cvRMSE = round(np.mean(cv_RFNEW_RMSE), 4)\n",
    "np.sqrt(mean_RFNEW_cvRMSE)"
   ]
  },
  {
   "cell_type": "markdown",
   "id": "5266104b",
   "metadata": {},
   "source": [
    "### Dealing with imbalance problem"
   ]
  },
  {
   "cell_type": "markdown",
   "id": "3f56c524",
   "metadata": {},
   "source": [
    "#### SMOTE\n",
    "\n",
    "SMOTE uses a nearest neighbors algorithm to generate new and synthetic data we can use for training our model.\n",
    "Again, it’s important to generate the new samples only in the training set to ensure our model generalizes well to unseen data."
   ]
  },
  {
   "cell_type": "code",
   "execution_count": 43,
   "id": "51ef8594",
   "metadata": {},
   "outputs": [],
   "source": [
    "from imblearn.over_sampling import SMOTE\n",
    "sm = SMOTE(random_state=215)\n",
    "X_train_sm, y_train_sm = sm.fit_resample(train_new_x, train_new_y)"
   ]
  },
  {
   "cell_type": "code",
   "execution_count": 44,
   "id": "436b6b31",
   "metadata": {},
   "outputs": [
    {
     "name": "stdout",
     "output_type": "stream",
     "text": [
      "is_canceled = 0: 60213\n",
      "is_canceled = 1: 60213\n"
     ]
    }
   ],
   "source": [
    "#check\n",
    "\n",
    "#class count\n",
    "is_canceled_0, is_canceled_1 = y_train_sm.value_counts()\n",
    "print('is_canceled = 0:', is_canceled_0)\n",
    "print('is_canceled = 1:',is_canceled_1 )"
   ]
  },
  {
   "cell_type": "markdown",
   "id": "27527b6d",
   "metadata": {},
   "source": [
    "### Applying SMOTH train set on Random Forest Model"
   ]
  },
  {
   "cell_type": "code",
   "execution_count": 45,
   "id": "df402279",
   "metadata": {},
   "outputs": [],
   "source": [
    "from sklearn.metrics import accuracy_score\n",
    "from sklearn.metrics import f1_score"
   ]
  },
  {
   "cell_type": "markdown",
   "id": "56cc073a",
   "metadata": {},
   "source": [
    "#### Score for SMOTH Random Forest Model"
   ]
  },
  {
   "cell_type": "code",
   "execution_count": 46,
   "id": "e1d40a19",
   "metadata": {},
   "outputs": [
    {
     "data": {
      "text/plain": [
       "0.8436"
      ]
     },
     "execution_count": 46,
     "metadata": {},
     "output_type": "execute_result"
    }
   ],
   "source": [
    "RF_smote = RandomForestClassifier(max_depth = 18)\n",
    "RF_smote.fit(X_train_sm, y_train_sm)\n",
    "\n",
    "\n",
    "smote_pred_test= RF_smote.predict(test_new_x)\n",
    "smote_pred_train = RF_smote.predict(X_train_sm)\n",
    "# checking accuracy\n",
    "\n",
    "cv_FinalRF_accuracy = cross_val_score(RF_smote, \n",
    "                                newx,newy,\n",
    "                                cv=split,\n",
    "                                scoring=\"accuracy\",\n",
    "                                n_jobs=-1)\n",
    "\n",
    "mean_cvFinalRF_accuracy = round(np.mean(cv_FinalRF_accuracy), 4)\n",
    "mean_cvFinalRF_accuracy"
   ]
  },
  {
   "cell_type": "code",
   "execution_count": 47,
   "id": "0d5f3a0d",
   "metadata": {},
   "outputs": [
    {
     "name": "stdout",
     "output_type": "stream",
     "text": [
      "RMSE on training data:  0.3295544188120738\n",
      "RMSE on test data:  0.3950230622383235\n"
     ]
    }
   ],
   "source": [
    "print('RMSE on training data: ', np.sqrt(mean_squared_error(y_train_sm, smote_pred_train)))\n",
    "print('RMSE on test data: ', np.sqrt(mean_squared_error(test_new_y, smote_pred_test)))"
   ]
  },
  {
   "cell_type": "code",
   "execution_count": 48,
   "id": "a5d6cfa0",
   "metadata": {},
   "outputs": [
    {
     "data": {
      "text/plain": [
       "0.7851954341058456"
      ]
     },
     "execution_count": 48,
     "metadata": {},
     "output_type": "execute_result"
    }
   ],
   "source": [
    "#F1 score\n",
    "F_1_smothe = f1_score(test_new_y, smote_pred_test)\n",
    "F_1_smothe"
   ]
  },
  {
   "cell_type": "code",
   "execution_count": 49,
   "id": "edd55b17",
   "metadata": {},
   "outputs": [
    {
     "data": {
      "text/plain": [
       "0.7630252100840336"
      ]
     },
     "execution_count": 49,
     "metadata": {},
     "output_type": "execute_result"
    }
   ],
   "source": [
    "#recall score\n",
    "recall_smothe = recall_score(test_new_y, smote_pred_test)\n",
    "recall_smothe"
   ]
  },
  {
   "cell_type": "code",
   "execution_count": 50,
   "id": "bc9aa6de",
   "metadata": {},
   "outputs": [
    {
     "data": {
      "text/plain": [
       "0.39458839313897714"
      ]
     },
     "execution_count": 50,
     "metadata": {},
     "output_type": "execute_result"
    }
   ],
   "source": [
    "#CV RMSE\n",
    "cv_FinalRF_RMSE = -cross_val_score(RF, \n",
    "                                newx,newy,\n",
    "                                cv=split,\n",
    "                                scoring=\"neg_mean_squared_error\",\n",
    "                                n_jobs=-1)\n",
    "\n",
    "mean_cvFinalRMSE_RF = round(np.mean(cv_FinalRF_RMSE), 4)\n",
    "np.sqrt(mean_cvFinalRMSE_RF)"
   ]
  },
  {
   "cell_type": "markdown",
   "id": "1d4d9973",
   "metadata": {},
   "source": [
    "#### Score for original RFM On feature selected data"
   ]
  },
  {
   "cell_type": "code",
   "execution_count": 51,
   "id": "4ddcd196",
   "metadata": {},
   "outputs": [
    {
     "data": {
      "text/plain": [
       "0.8446268531702823"
      ]
     },
     "execution_count": 51,
     "metadata": {},
     "output_type": "execute_result"
    }
   ],
   "source": [
    "# checking accuracy\n",
    "from sklearn.metrics import accuracy_score\n",
    "from sklearn.metrics import f1_score\n",
    "accuracy_org = accuracy_score(test_new_y, RFNEW_test_pred)\n",
    "accuracy_org"
   ]
  },
  {
   "cell_type": "code",
   "execution_count": 52,
   "id": "31436a0d",
   "metadata": {},
   "outputs": [
    {
     "data": {
      "text/plain": [
       "0.771523586648602"
      ]
     },
     "execution_count": 52,
     "metadata": {},
     "output_type": "execute_result"
    }
   ],
   "source": [
    "#F1 score\n",
    "F_1_org = f1_score(test_new_y,RFNEW_test_pred)\n",
    "F_1_org"
   ]
  },
  {
   "cell_type": "code",
   "execution_count": 53,
   "id": "bdb2eccc",
   "metadata": {},
   "outputs": [
    {
     "data": {
      "text/plain": [
       "0.7018487394957983"
      ]
     },
     "execution_count": 53,
     "metadata": {},
     "output_type": "execute_result"
    }
   ],
   "source": [
    "#recall score\n",
    "recall_org = recall_score(test_new_y, RFNEW_test_pred)\n",
    "recall_org"
   ]
  },
  {
   "cell_type": "markdown",
   "id": "9511b6c2",
   "metadata": {},
   "source": [
    "### table"
   ]
  },
  {
   "cell_type": "code",
   "execution_count": 54,
   "id": "0ef1d019",
   "metadata": {},
   "outputs": [
    {
     "data": {
      "text/html": [
       "<div>\n",
       "<style scoped>\n",
       "    .dataframe tbody tr th:only-of-type {\n",
       "        vertical-align: middle;\n",
       "    }\n",
       "\n",
       "    .dataframe tbody tr th {\n",
       "        vertical-align: top;\n",
       "    }\n",
       "\n",
       "    .dataframe thead th {\n",
       "        text-align: right;\n",
       "    }\n",
       "</style>\n",
       "<table border=\"1\" class=\"dataframe\">\n",
       "  <thead>\n",
       "    <tr style=\"text-align: right;\">\n",
       "      <th></th>\n",
       "      <th>Model</th>\n",
       "      <th>CV_Accuracy_score</th>\n",
       "      <th>F1 score</th>\n",
       "      <th>Recall score</th>\n",
       "    </tr>\n",
       "  </thead>\n",
       "  <tbody>\n",
       "    <tr>\n",
       "      <th>0</th>\n",
       "      <td>Random Forest SMOTE</td>\n",
       "      <td>0.8436</td>\n",
       "      <td>0.785195</td>\n",
       "      <td>0.763025</td>\n",
       "    </tr>\n",
       "    <tr>\n",
       "      <th>1</th>\n",
       "      <td>Random Forest Without SMOTE</td>\n",
       "      <td>0.8435</td>\n",
       "      <td>0.771524</td>\n",
       "      <td>0.701849</td>\n",
       "    </tr>\n",
       "  </tbody>\n",
       "</table>\n",
       "</div>"
      ],
      "text/plain": [
       "                         Model  CV_Accuracy_score  F1 score  Recall score\n",
       "0          Random Forest SMOTE             0.8436  0.785195      0.763025\n",
       "1  Random Forest Without SMOTE             0.8435  0.771524      0.701849"
      ]
     },
     "execution_count": 54,
     "metadata": {},
     "output_type": "execute_result"
    }
   ],
   "source": [
    "#comapring score and rmse for each model\n",
    "scores = pd.DataFrame({\n",
    "    'Model': ['Random Forest SMOTE', 'Random Forest Without SMOTE'],\n",
    "    \n",
    "    'CV_Accuracy_score': [mean_cvFinalRF_accuracy, mean_score_RFNEW],\n",
    "    'F1 score': [F_1_smothe, F_1_org],\n",
    "    'Recall score': [recall_smothe, recall_org]\n",
    "    })\n",
    "\n",
    "scores = scores.sort_values([\"CV_Accuracy_score\", \"F1 score\", \"Recall score\"], ascending = (False,False,False))\n",
    "scores"
   ]
  },
  {
   "cell_type": "markdown",
   "id": "6160da42",
   "metadata": {},
   "source": [
    "### Confusion Matrix"
   ]
  },
  {
   "cell_type": "code",
   "execution_count": 55,
   "id": "bca958fb",
   "metadata": {},
   "outputs": [
    {
     "name": "stdout",
     "output_type": "stream",
     "text": [
      "Confusion Matrix for SMOTE\n"
     ]
    },
    {
     "data": {
      "text/plain": [
       "<sklearn.metrics._plot.confusion_matrix.ConfusionMatrixDisplay at 0x7fc692216ca0>"
      ]
     },
     "execution_count": 55,
     "metadata": {},
     "output_type": "execute_result"
    },
    {
     "data": {
      "image/png": "[encoded data removed]",
      "text/plain": [
       "<Figure size 432x288 with 2 Axes>"
      ]
     },
     "metadata": {},
     "output_type": "display_data"
    }
   ],
   "source": [
    "from sklearn.metrics import confusion_matrix,ConfusionMatrixDisplay\n",
    "confusion_matrix_smote = confusion_matrix(test_new_y, smote_pred_test)\n",
    "disp = ConfusionMatrixDisplay(confusion_matrix = confusion_matrix_smote, display_labels = RF.classes_)\n",
    "title = 'Confusion Matrix for SMOTE'\n",
    "print(title)\n",
    "disp.plot()"
   ]
  },
  {
   "cell_type": "code",
   "execution_count": 58,
   "id": "d6554ef9",
   "metadata": {},
   "outputs": [
    {
     "name": "stdout",
     "output_type": "stream",
     "text": [
      "precision for SMOTE: 0.8086925543284645\n"
     ]
    }
   ],
   "source": [
    "precision = confusion_matrix_smote[1][1]/(confusion_matrix_smote[1][1]+confusion_matrix_smote[0][1])\n",
    "print('precision for SMOTE:' , precision)"
   ]
  },
  {
   "cell_type": "code",
   "execution_count": 59,
   "id": "4ed563c3",
   "metadata": {},
   "outputs": [
    {
     "name": "stdout",
     "output_type": "stream",
     "text": [
      "Confusion Matrix Without SMOTE\n"
     ]
    },
    {
     "data": {
      "text/plain": [
       "<sklearn.metrics._plot.confusion_matrix.ConfusionMatrixDisplay at 0x7fc692aefb20>"
      ]
     },
     "execution_count": 59,
     "metadata": {},
     "output_type": "execute_result"
    },
    {
     "data": {
      "image/png": "[encoded data removed]",
      "text/plain": [
       "<Figure size 432x288 with 2 Axes>"
      ]
     },
     "metadata": {},
     "output_type": "display_data"
    }
   ],
   "source": [
    "confusion_matrix_org = confusion_matrix(test_new_y, RFNEW_test_pred)\n",
    "disp = ConfusionMatrixDisplay(confusion_matrix = confusion_matrix_org, display_labels = RF.classes_)\n",
    "title = 'Confusion Matrix Without SMOTE'\n",
    "print(title)\n",
    "disp.plot()"
   ]
  },
  {
   "cell_type": "code",
   "execution_count": 60,
   "id": "ba763962",
   "metadata": {},
   "outputs": [
    {
     "name": "stdout",
     "output_type": "stream",
     "text": [
      "precision for original: 0.8565568166279228\n"
     ]
    }
   ],
   "source": [
    "precision2 = confusion_matrix_org[1][1]/(confusion_matrix_org[1][1]+confusion_matrix_org[0][1])\n",
    "print('precision for original:' , precision2)"
   ]
  },
  {
   "cell_type": "markdown",
   "id": "43856d7e",
   "metadata": {},
   "source": [
    "From the output, we can find that Random Forest trained with SMOTH dataset has better performance."
   ]
  },
  {
   "cell_type": "markdown",
   "id": "780af0b3",
   "metadata": {},
   "source": []
  },
  {
   "cell_type": "code",
   "execution_count": 60,
   "id": "b4ab297a",
   "metadata": {},
   "outputs": [],
   "source": [
    "f = open('prediction.csv', 'w')\n",
    "\n",
    "# create the csv writer\n",
    "writer = csv.writer(f)\n",
    "\n",
    "# write a row to the csv file\n",
    "writer.writerow(smote_pred_test)\n",
    "\n",
    "# close the file\n",
    "f.close()"
   ]
  }
 ],
 "metadata": {
  "kernelspec": {
   "display_name": "Python 3 (ipykernel)",
   "language": "python",
   "name": "python3"
  },
  "language_info": {
   "codemirror_mode": {
    "name": "ipython",
    "version": 3
   },
   "file_extension": ".py",
   "mimetype": "text/x-python",
   "name": "python",
   "nbconvert_exporter": "python",
   "pygments_lexer": "ipython3",
   "version": "3.9.7"
  }
 },
 "nbformat": 4,
 "nbformat_minor": 5
}
